{
  "nbformat": 4,
  "nbformat_minor": 0,
  "metadata": {
    "colab": {
      "provenance": []
    },
    "kernelspec": {
      "name": "python3",
      "display_name": "Python 3"
    },
    "language_info": {
      "name": "python"
    }
  },
  "cells": [
    {
      "cell_type": "code",
      "execution_count": 1,
      "metadata": {
        "id": "3AM9BlpMhzv5"
      },
      "outputs": [],
      "source": [
        "import pandas as pd\n",
        "import numpy as np\n",
        "from sklearn.ensemble import RandomForestClassifier\n",
        "from sklearn.model_selection import train_test_split\n",
        "from sklearn.metrics import accuracy_score"
      ]
    },
    {
      "cell_type": "code",
      "source": [
        "# Load the data\n",
        "train_data_orig = pd.read_csv('train.csv')\n",
        "test_data_orig = pd.read_csv('test.csv')"
      ],
      "metadata": {
        "id": "lMCC8IW1h4UB"
      },
      "execution_count": 2,
      "outputs": []
    },
    {
      "cell_type": "code",
      "source": [
        "# # Create a dummy column for the 'Cabin' column in the test data\n",
        "# test_data['Cabin'] = 'Unknown'\n",
        "\n",
        "# combined_data = pd.concat([train_data_orig.drop('Transported', axis=1), test_data])"
      ],
      "metadata": {
        "id": "4ocFFKpLf4Fs"
      },
      "execution_count": 3,
      "outputs": []
    },
    {
      "cell_type": "code",
      "source": [
        "# Preprocessing functions\n",
        "def process_cabin(df):\n",
        "    df['Deck'] = df['Cabin'].apply(lambda x: x[0] if pd.notnull(x) else 'Unknown')\n",
        "    df['Side'] = df['Cabin'].apply(lambda x: x[-1] if pd.notnull(x) else 'Unknown')\n",
        "    return df\n",
        "\n",
        "def fill_cabin_nan(df):\n",
        "    df.loc[(df['HomePlanet'] == 'Earth') & (df['Deck'] == 'Unknown'), 'Deck'] = 'E'\n",
        "    df.loc[(df['HomePlanet'] == 'Mars') & (df['Deck'] == 'Unknown'), 'Deck'] = 'D'\n",
        "    df.loc[(df['HomePlanet'] == 'Europa') & (df['Deck'] == 'Unknown'), 'Deck'] = 'B'\n",
        "    return df\n",
        "\n",
        "def fill_age_nan(df):\n",
        "    children_age_limit = 12\n",
        "    df.loc[(df['Age'].isnull()) & (df['HomePlanet'] == 'Mars'), 'Age'] = children_age_limit\n",
        "    return df\n",
        "\n",
        "def fill_side_nan(df):\n",
        "    mode_values = df.groupby(['HomePlanet', 'Deck'])['Side'].agg(pd.Series.mode).to_dict()\n",
        "\n",
        "    def fill_side(row):\n",
        "        if pd.isna(row['Side']):\n",
        "            key = (row['HomePlanet'], row['Deck'])\n",
        "            if key in mode_values:\n",
        "                return mode_values[key]\n",
        "            else:\n",
        "                return 'Unknown'\n",
        "        else:\n",
        "            return row['Side']\n",
        "\n",
        "    df['Side'] = df.apply(fill_side, axis=1)\n",
        "    return df\n",
        "\n",
        "def fill_destination_nan(df):\n",
        "    df.loc[(df['Age'] > 12) & (df['CryoSleep'] == 0) & (df['Destination'].isnull()), 'Destination'] = 'TRAPPIST-1e'\n",
        "    return df"
      ],
      "metadata": {
        "id": "tn566ucmmHg6"
      },
      "execution_count": 4,
      "outputs": []
    },
    {
      "cell_type": "code",
      "source": [
        "def preprocess_data(df):\n",
        "    df = process_cabin(df)\n",
        "    df = fill_cabin_nan(df)\n",
        "    df = fill_age_nan(df)\n",
        "    df = fill_side_nan(df)\n",
        "    df = fill_destination_nan(df)\n",
        "\n",
        "    # Check if the 'Transported' column exists before dropping it\n",
        "    if 'Transported' in df.columns:\n",
        "        df = df.drop(['Cabin', 'Name', 'PassengerId', 'Transported'], axis=1)\n",
        "    else:\n",
        "        df = df.drop(['Cabin', 'Name', 'PassengerId'], axis=1)\n",
        "\n",
        "    # Encode categorical variables\n",
        "    df = pd.get_dummies(df, columns=['HomePlanet', 'CryoSleep', 'Deck', 'Side', 'Destination', 'VIP'])\n",
        "\n",
        "    # Fill NaNs in other columns with their medians\n",
        "    df = df.fillna(df.median())\n",
        "\n",
        "    return df"
      ],
      "metadata": {
        "id": "K0ZE6h2VhM10"
      },
      "execution_count": 5,
      "outputs": []
    },
    {
      "cell_type": "code",
      "source": [
        "# Data preprocessing\n",
        "train_data = preprocess_data(train_data_orig)\n",
        "test_data = preprocess_data(test_data_orig)\n"
      ],
      "metadata": {
        "id": "4sqxVEfGkDS-"
      },
      "execution_count": 6,
      "outputs": []
    },
    {
      "cell_type": "code",
      "source": [
        "# Separate the data\n",
        "train_data_labels = train_data_orig['Transported']\n"
      ],
      "metadata": {
        "id": "frsP8J6IiAuC"
      },
      "execution_count": 7,
      "outputs": []
    },
    {
      "cell_type": "code",
      "source": [
        "# Train the model\n",
        "X_train, X_val, y_train, y_val = train_test_split(train_data, train_data_labels, test_size=0.2, random_state=42)\n",
        "clf = RandomForestClassifier(n_estimators=100, random_state=42)\n",
        "clf.fit(X_train, y_train)"
      ],
      "metadata": {
        "id": "CaSu7efZmfpo",
        "colab": {
          "base_uri": "https://localhost:8080/",
          "height": 74
        },
        "outputId": "0b470420-894b-4c17-ea14-eceff080ba25"
      },
      "execution_count": 8,
      "outputs": [
        {
          "output_type": "execute_result",
          "data": {
            "text/plain": [
              "RandomForestClassifier(random_state=42)"
            ],
            "text/html": [
              "<style>#sk-container-id-1 {color: black;background-color: white;}#sk-container-id-1 pre{padding: 0;}#sk-container-id-1 div.sk-toggleable {background-color: white;}#sk-container-id-1 label.sk-toggleable__label {cursor: pointer;display: block;width: 100%;margin-bottom: 0;padding: 0.3em;box-sizing: border-box;text-align: center;}#sk-container-id-1 label.sk-toggleable__label-arrow:before {content: \"▸\";float: left;margin-right: 0.25em;color: #696969;}#sk-container-id-1 label.sk-toggleable__label-arrow:hover:before {color: black;}#sk-container-id-1 div.sk-estimator:hover label.sk-toggleable__label-arrow:before {color: black;}#sk-container-id-1 div.sk-toggleable__content {max-height: 0;max-width: 0;overflow: hidden;text-align: left;background-color: #f0f8ff;}#sk-container-id-1 div.sk-toggleable__content pre {margin: 0.2em;color: black;border-radius: 0.25em;background-color: #f0f8ff;}#sk-container-id-1 input.sk-toggleable__control:checked~div.sk-toggleable__content {max-height: 200px;max-width: 100%;overflow: auto;}#sk-container-id-1 input.sk-toggleable__control:checked~label.sk-toggleable__label-arrow:before {content: \"▾\";}#sk-container-id-1 div.sk-estimator input.sk-toggleable__control:checked~label.sk-toggleable__label {background-color: #d4ebff;}#sk-container-id-1 div.sk-label input.sk-toggleable__control:checked~label.sk-toggleable__label {background-color: #d4ebff;}#sk-container-id-1 input.sk-hidden--visually {border: 0;clip: rect(1px 1px 1px 1px);clip: rect(1px, 1px, 1px, 1px);height: 1px;margin: -1px;overflow: hidden;padding: 0;position: absolute;width: 1px;}#sk-container-id-1 div.sk-estimator {font-family: monospace;background-color: #f0f8ff;border: 1px dotted black;border-radius: 0.25em;box-sizing: border-box;margin-bottom: 0.5em;}#sk-container-id-1 div.sk-estimator:hover {background-color: #d4ebff;}#sk-container-id-1 div.sk-parallel-item::after {content: \"\";width: 100%;border-bottom: 1px solid gray;flex-grow: 1;}#sk-container-id-1 div.sk-label:hover label.sk-toggleable__label {background-color: #d4ebff;}#sk-container-id-1 div.sk-serial::before {content: \"\";position: absolute;border-left: 1px solid gray;box-sizing: border-box;top: 0;bottom: 0;left: 50%;z-index: 0;}#sk-container-id-1 div.sk-serial {display: flex;flex-direction: column;align-items: center;background-color: white;padding-right: 0.2em;padding-left: 0.2em;position: relative;}#sk-container-id-1 div.sk-item {position: relative;z-index: 1;}#sk-container-id-1 div.sk-parallel {display: flex;align-items: stretch;justify-content: center;background-color: white;position: relative;}#sk-container-id-1 div.sk-item::before, #sk-container-id-1 div.sk-parallel-item::before {content: \"\";position: absolute;border-left: 1px solid gray;box-sizing: border-box;top: 0;bottom: 0;left: 50%;z-index: -1;}#sk-container-id-1 div.sk-parallel-item {display: flex;flex-direction: column;z-index: 1;position: relative;background-color: white;}#sk-container-id-1 div.sk-parallel-item:first-child::after {align-self: flex-end;width: 50%;}#sk-container-id-1 div.sk-parallel-item:last-child::after {align-self: flex-start;width: 50%;}#sk-container-id-1 div.sk-parallel-item:only-child::after {width: 0;}#sk-container-id-1 div.sk-dashed-wrapped {border: 1px dashed gray;margin: 0 0.4em 0.5em 0.4em;box-sizing: border-box;padding-bottom: 0.4em;background-color: white;}#sk-container-id-1 div.sk-label label {font-family: monospace;font-weight: bold;display: inline-block;line-height: 1.2em;}#sk-container-id-1 div.sk-label-container {text-align: center;}#sk-container-id-1 div.sk-container {/* jupyter's `normalize.less` sets `[hidden] { display: none; }` but bootstrap.min.css set `[hidden] { display: none !important; }` so we also need the `!important` here to be able to override the default hidden behavior on the sphinx rendered scikit-learn.org. See: https://github.com/scikit-learn/scikit-learn/issues/21755 */display: inline-block !important;position: relative;}#sk-container-id-1 div.sk-text-repr-fallback {display: none;}</style><div id=\"sk-container-id-1\" class=\"sk-top-container\"><div class=\"sk-text-repr-fallback\"><pre>RandomForestClassifier(random_state=42)</pre><b>In a Jupyter environment, please rerun this cell to show the HTML representation or trust the notebook. <br />On GitHub, the HTML representation is unable to render, please try loading this page with nbviewer.org.</b></div><div class=\"sk-container\" hidden><div class=\"sk-item\"><div class=\"sk-estimator sk-toggleable\"><input class=\"sk-toggleable__control sk-hidden--visually\" id=\"sk-estimator-id-1\" type=\"checkbox\" checked><label for=\"sk-estimator-id-1\" class=\"sk-toggleable__label sk-toggleable__label-arrow\">RandomForestClassifier</label><div class=\"sk-toggleable__content\"><pre>RandomForestClassifier(random_state=42)</pre></div></div></div></div></div>"
            ]
          },
          "metadata": {},
          "execution_count": 8
        }
      ]
    },
    {
      "cell_type": "code",
      "source": [
        "# Validate the model\n",
        "y_pred = clf.predict(X_val)\n",
        "accuracy = accuracy_score(y_val, y_pred)\n",
        "print(\"Accuracy:\", accuracy)"
      ],
      "metadata": {
        "colab": {
          "base_uri": "https://localhost:8080/"
        },
        "id": "bbDF1_JliHrS",
        "outputId": "e9368d5a-18a7-40ad-eca4-eb44db42976f"
      },
      "execution_count": 9,
      "outputs": [
        {
          "output_type": "stream",
          "name": "stdout",
          "text": [
            "Accuracy: 0.7797584818861415\n"
          ]
        }
      ]
    },
    {
      "cell_type": "code",
      "source": [
        "# Predict on the test data\n",
        "test_predictions = clf.predict(test_data)"
      ],
      "metadata": {
        "id": "-oHsaZO1iOBJ"
      },
      "execution_count": 10,
      "outputs": []
    },
    {
      "cell_type": "code",
      "source": [
        "# Create a submission file\n",
        "submission_df = pd.DataFrame({\n",
        "'PassengerId': test_data_orig['PassengerId'],\n",
        "'Transported': test_predictions\n",
        "})\n",
        "submission_df.to_csv('submission.csv', index=False)"
      ],
      "metadata": {
        "id": "a3lhFZaKisaa"
      },
      "execution_count": 11,
      "outputs": []
    }
  ]
}